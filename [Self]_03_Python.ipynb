{
  "nbformat": 4,
  "nbformat_minor": 0,
  "metadata": {
    "colab": {
      "provenance": [],
      "authorship_tag": "ABX9TyPnpBaFXUL6dgX2ZBk+yk3p",
      "include_colab_link": true
    },
    "kernelspec": {
      "name": "python3",
      "display_name": "Python 3"
    },
    "language_info": {
      "name": "python"
    }
  },
  "cells": [
    {
      "cell_type": "markdown",
      "metadata": {
        "id": "view-in-github",
        "colab_type": "text"
      },
      "source": [
        "<a href=\"https://colab.research.google.com/github/YeJ-P/Univ_AI/blob/main/%5BSelf%5D_03_Python.ipynb\" target=\"_parent\"><img src=\"https://colab.research.google.com/assets/colab-badge.svg\" alt=\"Open In Colab\"/></a>"
      ]
    },
    {
      "cell_type": "code",
      "execution_count": null,
      "metadata": {
        "cellView": "form",
        "id": "rcZL9K3dCFF8"
      },
      "outputs": [],
      "source": [
        "# @title Type\n",
        "\n",
        "# 1. List\n",
        "student1 = [\"Kim\",\"Lee\",\"Choi\"]\n",
        "# 2. Dictionary\n",
        "#     {\"key1\":value1, \"key2\":value2, ...}\n",
        "student2 = {\"kim\":100,\"lee\":80, \"choi\":93}\n",
        "# 3. Tuple (리스트의 읽기모드로 수정 불가)\n",
        "#     (key1, key2, ...)\n",
        "student3 = (\"kim\",\"lee\",\"choi\")"
      ]
    },
    {
      "cell_type": "code",
      "source": [
        "# @title Operation\n",
        "# 숫자끼리_ +,-,*,/(나누기),//(몫),%(나머지),**(지수=^)\n",
        "\n",
        "# 리스트 연산\n",
        "list1=[1,2,3]\n",
        "list2=[3,2,1]\n",
        "\n",
        "print(list1+list2)    # 원소끼리 더하기 X, 행방향으로 단순 붙혀짐 O\n",
        "print(list(list1[i]+list2[i] for i in range(len(list1))))   # 각 원소끼리 더하기 O\n",
        "\n",
        "print(3*list1)      # 각 원소에 3 곱해지기 X, 리스트 3번 반복 O\n",
        "print(list(3*list1[i] for i in range(len(list1))))    # 각 원소에 3 곱해지기 O"
      ],
      "metadata": {
        "cellView": "form",
        "id": "WQyYjKXECOiW"
      },
      "execution_count": null,
      "outputs": []
    },
    {
      "cell_type": "code",
      "source": [
        "# @title Condition\n",
        "# if ~ :\n",
        "#   ~\n",
        "# elif ~:\n",
        "#   ~\n",
        "# else:\n",
        "# ~"
      ],
      "metadata": {
        "cellView": "form",
        "id": "qgzs0N1XFCDi"
      },
      "execution_count": null,
      "outputs": []
    },
    {
      "cell_type": "code",
      "source": [
        "# @title Loop\n",
        "# for i in range(n):\n",
        "#   ~~\n",
        "#   if ~~:\n",
        "#     break/continue\n",
        "\n",
        "# i=0\n",
        "# while i < n:\n",
        "#   ~~"
      ],
      "metadata": {
        "cellView": "form",
        "id": "DAWqneWGFUzq"
      },
      "execution_count": null,
      "outputs": []
    },
    {
      "cell_type": "code",
      "source": [
        "# @title List/Dictionary + Loop"
      ],
      "metadata": {
        "cellView": "form",
        "id": "krYaMhj6Fy4H"
      },
      "execution_count": null,
      "outputs": []
    },
    {
      "cell_type": "code",
      "source": [
        "# @title Function\n",
        "# def funname(input1, input2,...):\n",
        "#   ~~\n",
        "#   return output"
      ],
      "metadata": {
        "cellView": "form",
        "id": "N4r_UrGcF7Wa"
      },
      "execution_count": null,
      "outputs": []
    },
    {
      "cell_type": "code",
      "source": [
        "# @title Class\n",
        "\n",
        "class StudyP:\n",
        "  def __init__(self):   # __init__ : 클래스 할당 시 자동 실행\n",
        "    print(\"START\")\n",
        "  def printf(self):\n",
        "    print(\"PRINT\")\n",
        "  def __del__(self):\n",
        "    print(\"END\")\n",
        "\n",
        "class StudyC1(StudyP):    # StudyP의 상속 class, StudyP 속성 물려받음\n",
        "  pass                    # 일단 넘어가\n",
        "\n",
        "class StudyC2:\n",
        "  def __init__(self):\n",
        "    print(\"END\")\n",
        "  def printf(self):\n",
        "    print(\"END\")\n",
        "\n",
        "P = StudyP()    # Class 할당\n",
        "P.printf()\n",
        "C1 = StudyC1()\n",
        "C1.printf()\n",
        "C2 = StudyC2()\n",
        "C2.printf()"
      ],
      "metadata": {
        "colab": {
          "base_uri": "https://localhost:8080/"
        },
        "id": "k4eS2dtoG4I8",
        "outputId": "7a42508a-4afa-4344-93c5-8fe96a518a6e"
      },
      "execution_count": null,
      "outputs": [
        {
          "output_type": "stream",
          "name": "stdout",
          "text": [
            "START\n",
            "PRINT\n",
            "START\n",
            "PRINT\n",
            "END\n",
            "END\n"
          ]
        }
      ]
    },
    {
      "cell_type": "code",
      "source": [
        "from re import X\n",
        "from matplotlib.rcsetup import ccycler\n",
        "# @title Graph & Style\n",
        "import numpy as np\n",
        "import matplotlib.pyplot as plt\n",
        "\n",
        "t=np.arange(0,199)*0.01\n",
        "s=np.sin(2*np.pi*t)\n",
        "c=np.cos(2*np.pi*t)\n",
        "\n",
        "plt.subplot(2,1,1); plt.plot(t,s); plt.grid()\n",
        "plt.subplot(2,1,2); plt.plot(t,c); plt.grid()\n",
        "plt.show()\n",
        "\n",
        "x=np.arange(0,1000)*0.01\n",
        "a=np.sin(2*np.pi*x)\n",
        "b=np.cos(2*np.pi*x)\n",
        "c=np.cos(2*np.pi*x)*np.exp(-x)\n",
        "d=x\n",
        "\n",
        "plt.figure(figsize=(7,7)) # 그래프 창 크기 결정\n",
        "plt.subplot(2,2,1); plt.plot(x,a,\"ro-\")\n",
        "plt.subplot(2,2,2); plt.plot(x,b,\"g^--\")\n",
        "plt.subplot(2,2,3); plt.plot(x,c,\"bD:\")\n",
        "plt.subplot(2,2,4); plt.plot(x,d,\"m*-.\")\n",
        "plt.fill([3,3,7,7],[3,7,7,3], alpha=0.5)\n",
        "plt.show()"
      ],
      "metadata": {
        "id": "KOOozjqNIv6N"
      },
      "execution_count": null,
      "outputs": []
    }
  ]
}